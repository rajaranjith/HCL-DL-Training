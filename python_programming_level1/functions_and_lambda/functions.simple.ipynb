{
  "cells": [
    {
      "cell_type": "markdown",
      "metadata": {
        "id": "view-in-github",
        "colab_type": "text"
      },
      "source": [
        "<a href=\"https://colab.research.google.com/github/rajaranjith/HCL-DL-Training/blob/master/python_programming_level1/functions_and_lambda/functions.simple.ipynb\" target=\"_parent\"><img src=\"https://colab.research.google.com/assets/colab-badge.svg\" alt=\"Open In Colab\"/></a>"
      ]
    },
    {
      "cell_type": "markdown",
      "id": "543377a9",
      "metadata": {
        "id": "543377a9"
      },
      "source": [
        "# functions in python"
      ]
    },
    {
      "cell_type": "code",
      "execution_count": null,
      "id": "23c4b85d",
      "metadata": {
        "id": "23c4b85d"
      },
      "outputs": [],
      "source": [
        "import numpy as np"
      ]
    },
    {
      "cell_type": "code",
      "execution_count": null,
      "id": "2ac9221b",
      "metadata": {
        "id": "2ac9221b"
      },
      "outputs": [],
      "source": [
        "np"
      ]
    },
    {
      "cell_type": "code",
      "execution_count": null,
      "id": "d770f361",
      "metadata": {
        "id": "d770f361"
      },
      "outputs": [],
      "source": [
        "x = 20\n",
        "print(type(x))"
      ]
    },
    {
      "cell_type": "code",
      "execution_count": null,
      "id": "033a996a",
      "metadata": {
        "id": "033a996a"
      },
      "outputs": [],
      "source": [
        "# functions, subroutines, methods, procedure\n",
        "def yourfunc():\n",
        "    print(\"This is function definition\")\n",
        "\n",
        "yourfunc() # This is a function call"
      ]
    },
    {
      "cell_type": "code",
      "execution_count": null,
      "id": "ffc6aa1a",
      "metadata": {
        "id": "ffc6aa1a"
      },
      "outputs": [],
      "source": [
        "print(type(yourfunc))"
      ]
    },
    {
      "cell_type": "markdown",
      "id": "517f7534",
      "metadata": {
        "id": "517f7534"
      },
      "source": [
        "# pass data as an argument to function"
      ]
    },
    {
      "cell_type": "code",
      "execution_count": null,
      "id": "be66386b",
      "metadata": {
        "id": "be66386b"
      },
      "outputs": [],
      "source": [
        "def yourfunc(b):\n",
        "    b = b ** 2\n",
        "    print(b)\n",
        "\n",
        "p = int(input())\n",
        "yourfunc(p)\n",
        "#print(b)"
      ]
    },
    {
      "cell_type": "markdown",
      "id": "0e2f6766",
      "metadata": {
        "id": "0e2f6766"
      },
      "source": [
        "# return data using 'return' from a function"
      ]
    },
    {
      "cell_type": "code",
      "execution_count": null,
      "id": "9904b237",
      "metadata": {
        "id": "9904b237",
        "outputId": "4e0a0c1e-dd71-4952-f963-f094cfdb57bc"
      },
      "outputs": [
        {
          "name": "stdout",
          "output_type": "stream",
          "text": [
            "1600\n"
          ]
        }
      ],
      "source": [
        "def yourfunc(b):\n",
        "    b = b ** 2\n",
        "    return b\n",
        "\n",
        "p = 40\n",
        "x = yourfunc(p)\n",
        "print(x)"
      ]
    },
    {
      "cell_type": "markdown",
      "id": "85bfa10d",
      "metadata": {
        "id": "85bfa10d"
      },
      "source": [
        "# pass more than one value to a function"
      ]
    },
    {
      "cell_type": "code",
      "execution_count": null,
      "id": "15e8f16a",
      "metadata": {
        "id": "15e8f16a",
        "outputId": "5e5b7edd-e309-458d-9107-39283eb03532"
      },
      "outputs": [
        {
          "name": "stdout",
          "output_type": "stream",
          "text": [
            "10 20 30\n",
            "6000\n"
          ]
        }
      ],
      "source": [
        "def yourfunc(b,c,d):\n",
        "    print(b,c,d)\n",
        "    return b*c*d\n",
        "\n",
        "p = 10\n",
        "q = 20\n",
        "r = 30\n",
        "print(yourfunc(p,q,r))"
      ]
    },
    {
      "cell_type": "markdown",
      "id": "c6c0eedc",
      "metadata": {
        "id": "c6c0eedc"
      },
      "source": [
        "# pass a list, set, dictionary and set to function"
      ]
    },
    {
      "cell_type": "code",
      "execution_count": null,
      "id": "e1c52fb9",
      "metadata": {
        "id": "e1c52fb9",
        "outputId": "4c2396b0-6d9a-4571-abc5-932e4195fc7c"
      },
      "outputs": [
        {
          "name": "stdout",
          "output_type": "stream",
          "text": [
            "[3, 4, 67]\n"
          ]
        }
      ],
      "source": [
        "def yourfunc(b):\n",
        "    print(b)\n",
        "\n",
        "p = [3,4,67]\n",
        "yourfunc(p)"
      ]
    },
    {
      "cell_type": "code",
      "execution_count": null,
      "id": "48f5e045",
      "metadata": {
        "id": "48f5e045",
        "outputId": "249940aa-b75a-41f2-cc5b-ecdd4aa4e367"
      },
      "outputs": [
        {
          "name": "stdout",
          "output_type": "stream",
          "text": [
            "(3, 4, 67)\n",
            "{56, 34, 78}\n",
            "{3: 56, 6: 78, 12: 33, 5: 45}\n",
            "(3, 4, 67) {56, 34, 78} {3: 56, 6: 78, 12: 33, 5: 45}\n"
          ]
        }
      ],
      "source": [
        "def yourfunc(b,c,d):\n",
        "    d[5] = 45\n",
        "    print(b)\n",
        "    print(c)\n",
        "    print(d)\n",
        "\n",
        "p = (3,4,67)\n",
        "q = {34,56,78}\n",
        "r = {3:56,6:78,12:33}\n",
        "yourfunc(p,q,r)\n",
        "print(p,q,r)"
      ]
    },
    {
      "cell_type": "markdown",
      "id": "d7ae215d",
      "metadata": {
        "id": "d7ae215d"
      },
      "source": [
        "# return a set, list, tuple or a dictionary"
      ]
    },
    {
      "cell_type": "code",
      "execution_count": null,
      "id": "764071d5",
      "metadata": {
        "id": "764071d5",
        "outputId": "a605e667-16b5-48f8-dbbb-16c1afff6ac6"
      },
      "outputs": [
        {
          "name": "stdout",
          "output_type": "stream",
          "text": [
            "[23, 45, 79]\n",
            "[23, 45, 79]\n"
          ]
        }
      ],
      "source": [
        "def yourfunc():\n",
        "    b = [23,45,79]\n",
        "    return b\n",
        "\n",
        "print(yourfunc())\n",
        "z = yourfunc()\n",
        "print(z)"
      ]
    },
    {
      "cell_type": "code",
      "execution_count": null,
      "id": "fb0a61ae",
      "metadata": {
        "id": "fb0a61ae"
      },
      "outputs": [],
      "source": [
        "def yourfunc(two):\n",
        "    #print(\"new function\")\n",
        "    two()\n",
        "\n",
        "def one():\n",
        "    print(\"This function\")\n",
        "\n",
        "yourfunc(one)"
      ]
    },
    {
      "cell_type": "code",
      "execution_count": null,
      "id": "349008fc",
      "metadata": {
        "id": "349008fc"
      },
      "outputs": [],
      "source": [
        "def yourfunc():\n",
        "    b = (23,45,79)\n",
        "    return b\n",
        "\n",
        "print(yourfunc())"
      ]
    },
    {
      "cell_type": "code",
      "execution_count": null,
      "id": "3bed69f9",
      "metadata": {
        "id": "3bed69f9"
      },
      "outputs": [],
      "source": [
        "def yourfunc():\n",
        "    b = {23,45,79}\n",
        "    return b\n",
        "\n",
        "print(yourfunc())"
      ]
    },
    {
      "cell_type": "code",
      "execution_count": null,
      "id": "79ae126d",
      "metadata": {
        "id": "79ae126d",
        "outputId": "a89189ea-3f2f-4e36-be37-e7d40bd62f57"
      },
      "outputs": [
        {
          "name": "stdout",
          "output_type": "stream",
          "text": [
            "(23, 45, 60)\n",
            "23 45 60\n"
          ]
        }
      ],
      "source": [
        "def yourfunc():\n",
        "    b = 23; c = 45; d = 60\n",
        "    return b,c,d\n",
        "\n",
        "print(yourfunc())\n",
        "p,q,r = yourfunc()\n",
        "print(p,q,r)"
      ]
    },
    {
      "cell_type": "code",
      "execution_count": null,
      "id": "9559b3c5",
      "metadata": {
        "id": "9559b3c5"
      },
      "outputs": [],
      "source": [
        "x,y,z = 45,67,78\n",
        "print(y)"
      ]
    },
    {
      "cell_type": "code",
      "execution_count": null,
      "id": "1df2a8e1",
      "metadata": {
        "id": "1df2a8e1"
      },
      "outputs": [],
      "source": [
        "x = 45; y = 55;\n",
        "x,y = 55,45\n",
        "print(x)\n",
        "print(y)"
      ]
    },
    {
      "cell_type": "code",
      "execution_count": null,
      "id": "9bc5a052",
      "metadata": {
        "id": "9bc5a052"
      },
      "outputs": [],
      "source": [
        "x = 45,67,78\n",
        "print(type(x))\n",
        "print(x)"
      ]
    },
    {
      "cell_type": "code",
      "execution_count": null,
      "id": "152c86d3",
      "metadata": {
        "id": "152c86d3",
        "outputId": "097cfaf8-5b5e-4552-80a8-7f5b84aedd8c"
      },
      "outputs": [
        {
          "name": "stdout",
          "output_type": "stream",
          "text": [
            "((23, 56), {66, 45}, (2, 5, 7))\n",
            "<class 'tuple'>\n",
            "<class 'function'>\n",
            "<function yourfunc at 0x00000246C93A3880>\n",
            "<class 'function'>\n",
            "(23, 56) <class 'tuple'>\n",
            "{66, 45} <class 'set'>\n",
            "(2, 5, 7) <class 'tuple'>\n"
          ]
        }
      ],
      "source": [
        "def yourfunc():\n",
        "    b = (23,56);  c = {45,66}; d = (2,5,7)\n",
        "    return b,c,d\n",
        "\n",
        "p = yourfunc()\n",
        "print(p)\n",
        "print(type(p))\n",
        "print(type(yourfunc))\n",
        "z = yourfunc\n",
        "print(z)\n",
        "print(type(z))\n",
        "# what is the type of p\n",
        "p,q,r = yourfunc()\n",
        "print(p,type(p))\n",
        "print(q,type(q))\n",
        "print(r,type(r))"
      ]
    },
    {
      "cell_type": "code",
      "execution_count": null,
      "id": "af5d11fe",
      "metadata": {
        "id": "af5d11fe"
      },
      "outputs": [],
      "source": [
        "def yourfunc():\n",
        "    b = {23:1,45:12,79:\"John\"}\n",
        "    return b\n",
        "\n",
        "print(yourfunc())"
      ]
    },
    {
      "cell_type": "code",
      "execution_count": null,
      "id": "1a216dd0",
      "metadata": {
        "id": "1a216dd0"
      },
      "outputs": [],
      "source": [
        "def newfunc():\n",
        "    return 5,10\n",
        "\n",
        "x,y = newfunc()\n",
        "print(x,y)"
      ]
    },
    {
      "cell_type": "markdown",
      "id": "96bc3b35",
      "metadata": {
        "id": "96bc3b35"
      },
      "source": [
        "# default function arguments"
      ]
    },
    {
      "cell_type": "code",
      "execution_count": null,
      "id": "2c098eec",
      "metadata": {
        "id": "2c098eec",
        "outputId": "17887e44-d07c-47e6-d5ab-efeccb008220"
      },
      "outputs": [
        {
          "name": "stdout",
          "output_type": "stream",
          "text": [
            "Hello Karthik, How do you do\n"
          ]
        }
      ],
      "source": [
        "#Python program that shows default arguments\n",
        "\n",
        "def greetings(name=\"Karthik\", msg=\"Good morning!\"):\n",
        "    print(\"Hello\", name + ', ' + msg)\n",
        "\n",
        "#greetings(\"Hrishikesh\")\n",
        "#greetings(\"Shalini\", \"How do you do?\")\n",
        "#greetings()\n",
        "greetings(msg=\"How do you do\")\n",
        "#greetings(\"\",\"How do you do\")\n",
        "#greetings(\"How do you do\")"
      ]
    },
    {
      "cell_type": "code",
      "execution_count": null,
      "id": "7affcd24",
      "metadata": {
        "id": "7affcd24"
      },
      "outputs": [],
      "source": [
        "#Python program that shows default arguments\n",
        "\n",
        "def calculatearea(length=20, breadth=5):\n",
        "    return length * breadth\n",
        "\n",
        "print(calculatearea())\n",
        "print(calculatearea(10))\n",
        "print(calculatearea(breadth=15))\n",
        "print(calculatearea(15))"
      ]
    },
    {
      "cell_type": "code",
      "execution_count": null,
      "id": "4ff6b008",
      "metadata": {
        "id": "4ff6b008",
        "outputId": "6f5a5db7-242f-4531-e36d-311c466b1822"
      },
      "outputs": [
        {
          "ename": "TypeError",
          "evalue": "calculatearea() missing 1 required positional argument: 'x'",
          "output_type": "error",
          "traceback": [
            "\u001b[1;31m---------------------------------------------------------------------------\u001b[0m",
            "\u001b[1;31mTypeError\u001b[0m                                 Traceback (most recent call last)",
            "Cell \u001b[1;32mIn[40], line 8\u001b[0m\n\u001b[0;32m      4\u001b[0m     \u001b[38;5;28;01mreturn\u001b[39;00m x \u001b[38;5;241m*\u001b[39m length \u001b[38;5;241m*\u001b[39m breadth\n\u001b[0;32m      6\u001b[0m \u001b[38;5;66;03m#print(calculatearea()) \u001b[39;00m\n\u001b[0;32m      7\u001b[0m \u001b[38;5;66;03m#print(calculatearea(15)) \u001b[39;00m\n\u001b[1;32m----> 8\u001b[0m \u001b[38;5;28mprint\u001b[39m(\u001b[43mcalculatearea\u001b[49m\u001b[43m(\u001b[49m\u001b[43mbreadth\u001b[49m\u001b[38;5;241;43m=\u001b[39;49m\u001b[38;5;241;43m15\u001b[39;49m\u001b[43m)\u001b[49m)\n",
            "\u001b[1;31mTypeError\u001b[0m: calculatearea() missing 1 required positional argument: 'x'"
          ]
        }
      ],
      "source": [
        "#Python program that shows default arguments\n",
        "\n",
        "def calculatearea(x,length=10,breadth=5):\n",
        "    return x * length * breadth\n",
        "\n",
        "#print(calculatearea())\n",
        "#print(calculatearea(15))\n",
        "#print(calculatearea(breadth=15))\n",
        "#print(calculatearea(15))"
      ]
    },
    {
      "cell_type": "code",
      "execution_count": null,
      "id": "7225d554",
      "metadata": {
        "id": "7225d554"
      },
      "outputs": [],
      "source": [
        "num = int(input(\"Give a number  \"))\n",
        "for trace in range(2,num):\n",
        "    flag = 0\n",
        "    for val in range(2,trace)\n",
        "        if trace % val == 0:\n",
        "            flag = 1\n",
        "            break\n",
        "    if flag == 0:\n",
        "        print(trace,end=\" \")"
      ]
    },
    {
      "cell_type": "code",
      "execution_count": null,
      "id": "4e7fe499",
      "metadata": {
        "id": "4e7fe499"
      },
      "outputs": [],
      "source": []
    }
  ],
  "metadata": {
    "kernelspec": {
      "display_name": "Python 3 (ipykernel)",
      "language": "python",
      "name": "python3"
    },
    "language_info": {
      "codemirror_mode": {
        "name": "ipython",
        "version": 3
      },
      "file_extension": ".py",
      "mimetype": "text/x-python",
      "name": "python",
      "nbconvert_exporter": "python",
      "pygments_lexer": "ipython3",
      "version": "3.10.13"
    },
    "colab": {
      "provenance": [],
      "include_colab_link": true
    }
  },
  "nbformat": 4,
  "nbformat_minor": 5
}