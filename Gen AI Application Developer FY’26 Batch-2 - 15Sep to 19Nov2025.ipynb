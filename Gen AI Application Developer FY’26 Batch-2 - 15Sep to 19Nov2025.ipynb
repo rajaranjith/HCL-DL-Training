{
  "cells": [
    {
      "cell_type": "markdown",
      "metadata": {
        "id": "view-in-github",
        "colab_type": "text"
      },
      "source": [
        "<a href=\"https://colab.research.google.com/github/rajaranjith/HCL-DL-Training/blob/master/Gen%20AI%20Application%20Developer%20FY%E2%80%9926%20Batch-2%20-%2015Sep%20to%2019Nov2025.ipynb\" target=\"_parent\"><img src=\"https://colab.research.google.com/assets/colab-badge.svg\" alt=\"Open In Colab\"/></a>"
      ]
    },
    {
      "cell_type": "markdown",
      "source": [
        "Code and o/p for Assignment on 22Sep2025:\n",
        "build a linear regression model for the salary data given above and predict the salary for a given input, and also print 10 testcase outputs"
      ],
      "metadata": {
        "id": "Iot4gDOIEfCZ"
      }
    },
    {
      "cell_type": "code",
      "source": [
        "import pandas as pd\n",
        "from sklearn.model_selection import train_test_split\n",
        "from sklearn.linear_model import LinearRegression\n",
        "from sklearn.preprocessing import LabelEncoder\n",
        "from sklearn.metrics import mean_squared_error\n",
        "\n",
        "# Load the dataset\n",
        "#filename = \"Salary Data.csv\"\n",
        "filename = \"https://raw.githubusercontent.com/enuguru/aiandml/master/datasets/Salary%20Data.csv\"\n",
        "df = pd.read_csv(filename)\n",
        "\n",
        "# Drop rows with missing values\n",
        "df.dropna(inplace=True)\n",
        "\n",
        "# Encode categorical features using LabelEncoder\n",
        "label_encoders = {}\n",
        "categorical_columns = [\"Gender\", \"Education Level\", \"Job Title\"]\n",
        "for col in categorical_columns:\n",
        "    le = LabelEncoder()\n",
        "    df[col] = le.fit_transform(df[col])\n",
        "    label_encoders[col] = le\n",
        "\n",
        "# Define features and target\n",
        "X = df.drop(\"Salary\", axis=1)\n",
        "y = df[\"Salary\"]\n",
        "\n",
        "# Split data into training and testing sets\n",
        "X_train, X_test, y_train, y_test = train_test_split(X, y, test_size=0.2, random_state=42)\n",
        "\n",
        "# Train the Linear Regression model\n",
        "model = LinearRegression()\n",
        "model.fit(X_train, y_train)\n",
        "\n",
        "# Predict and evaluate\n",
        "y_pred = model.predict(X_test)\n",
        "mse = mean_squared_error(y_test, y_pred)\n",
        "\n",
        "# Print 10 test case predictions\n",
        "test_cases = X_test.head(10)\n",
        "predictions = model.predict(test_cases)\n",
        "\n",
        "print(\"Mean Squared Error:\", round(mse, 2))\n",
        "print(\"\\nSample Predictions:\")\n",
        "for i in range(10):\n",
        "    print(f\"Input: {test_cases.iloc[i].to_dict()} => Predicted Salary: {round(predictions[i], 2)}\")"
      ],
      "metadata": {
        "colab": {
          "base_uri": "https://localhost:8080/"
        },
        "id": "26z_F9AeEVC5",
        "outputId": "7c59125f-17db-44f9-b7ac-0b027811118b"
      },
      "execution_count": 7,
      "outputs": [
        {
          "output_type": "stream",
          "name": "stdout",
          "text": [
            "Mean Squared Error: 249075656.43\n",
            "\n",
            "Sample Predictions:\n",
            "Input: {'Age': 48.0, 'Gender': 1.0, 'Education Level': 1.0, 'Job Title': 29.0, 'Years of Experience': 21.0} => Predicted Salary: 167633.69\n",
            "Input: {'Age': 39.0, 'Gender': 0.0, 'Education Level': 0.0, 'Job Title': 84.0, 'Years of Experience': 10.0} => Predicted Salary: 93362.33\n",
            "Input: {'Age': 44.0, 'Gender': 1.0, 'Education Level': 0.0, 'Job Title': 89.0, 'Years of Experience': 16.0} => Predicted Salary: 130879.62\n",
            "Input: {'Age': 34.0, 'Gender': 0.0, 'Education Level': 1.0, 'Job Title': 117.0, 'Years of Experience': 6.0} => Predicted Salary: 84293.36\n",
            "Input: {'Age': 43.0, 'Gender': 1.0, 'Education Level': 2.0, 'Job Title': 116.0, 'Years of Experience': 17.0} => Predicted Salary: 161044.59\n",
            "Input: {'Age': 44.0, 'Gender': 0.0, 'Education Level': 2.0, 'Job Title': 122.0, 'Years of Experience': 18.0} => Predicted Salary: 159610.95\n",
            "Input: {'Age': 50.0, 'Gender': 0.0, 'Education Level': 0.0, 'Job Title': 89.0, 'Years of Experience': 22.0} => Predicted Salary: 157000.4\n",
            "Input: {'Age': 35.0, 'Gender': 1.0, 'Education Level': 1.0, 'Job Title': 141.0, 'Years of Experience': 10.0} => Predicted Salary: 104784.31\n",
            "Input: {'Age': 31.0, 'Gender': 1.0, 'Education Level': 0.0, 'Job Title': 66.0, 'Years of Experience': 3.0} => Predicted Salary: 57465.49\n",
            "Input: {'Age': 37.0, 'Gender': 0.0, 'Education Level': 1.0, 'Job Title': 121.0, 'Years of Experience': 9.0} => Predicted Salary: 101175.03\n"
          ]
        }
      ]
    },
    {
      "cell_type": "markdown",
      "source": [
        "1. Can you build a multivariate linear regression model that can predict the product sales based on the advertising budget allocated to different channels. The features are TV Budget ($),Radio Budget ($),Newspaper Budget ($) and the output is Sales (units)\n",
        "The dataset is give below\n",
        "TV Budget ($),Radio Budget ($),Newspaper Budget ($),Sales (units)\n",
        "230.1,37.8,69.2,22.1\n",
        "44.5,39.3,45.1,10.4\n",
        "17.2,45.9,69.3,9.3\n",
        "151.5,41.3,58.5,18.5\n",
        "180.8,10.8,58.4,12.9\n",
        "8.7,48.9,75.0,7.2\n",
        "57.5,32.8,23.5,11.8\n",
        "120.2,19.6,11.6,13.2\n",
        "144.1,16.0,40.3,15.6\n",
        "111.6,12.6,37.9,12.2"
      ],
      "metadata": {
        "id": "bAQwuuNhEpPB"
      }
    },
    {
      "cell_type": "code",
      "source": [
        "\n",
        "import pandas as pd\n",
        "from sklearn.model_selection import train_test_split\n",
        "from sklearn.linear_model import LinearRegression\n",
        "from sklearn.metrics import r2_score, mean_squared_error\n",
        "\n",
        "# Define the dataset\n",
        "data = {\n",
        "    \"TV Budget ($)\": [230.1, 44.5, 17.2, 151.5, 180.8, 8.7, 57.5, 120.2, 144.1, 111.6],\n",
        "    \"Radio Budget ($)\": [37.8, 39.3, 45.9, 41.3, 10.8, 48.9, 32.8, 19.6, 16.0, 12.6],\n",
        "    \"Newspaper Budget ($)\": [69.2, 45.1, 69.3, 58.5, 58.4, 75.0, 23.5, 11.6, 40.3, 37.9],\n",
        "    \"Sales (units)\": [22.1, 10.4, 9.3, 18.5, 12.9, 7.2, 11.8, 13.2, 15.6, 12.2]\n",
        "}\n",
        "\n",
        "# Create a DataFrame\n",
        "df = pd.DataFrame(data)\n",
        "\n",
        "# Define features and target variable\n",
        "X = df[[\"TV Budget ($)\", \"Radio Budget ($)\", \"Newspaper Budget ($)\"]]\n",
        "y = df[\"Sales (units)\"]\n",
        "\n",
        "# Split the data into training and testing sets\n",
        "X_train, X_test, y_train, y_test = train_test_split(X, y, test_size=0.2, random_state=42)\n",
        "\n",
        "# Check the size of the test set\n",
        "print(\"Test set size:\", len(X_test))\n",
        "\n",
        "# Create and train the linear regression model\n",
        "model = LinearRegression()\n",
        "model.fit(X_train, y_train)\n",
        "\n",
        "# Predict sales using the trained model\n",
        "y_pred = model.predict(X_test)\n",
        "\n",
        "# Display model coefficients, intercept, R-squared score, and mean squared error\n",
        "print(\"Intercept:\", model.intercept_)\n",
        "print(\"Coefficients:\", model.coef_)\n",
        "print(\"R-squared Score:\", r2_score(y_test, y_pred))\n",
        "print(\"Mean Squared Error:\", mean_squared_error(y_test, y_pred))\n",
        "\n",
        "# Optional: Print predictions vs actuals\n",
        "for i in range(len(y_test)):\n",
        "    print(f\"Actual: {y_test.iloc[i]}, Predicted: {y_pred[i]:.2f}\")\n"
      ],
      "metadata": {
        "id": "cBxMi1_RsoEM",
        "outputId": "895c2051-2b8e-4c86-e50b-3dfe629bfcfc",
        "colab": {
          "base_uri": "https://localhost:8080/"
        }
      },
      "execution_count": null,
      "outputs": [
        {
          "output_type": "stream",
          "name": "stdout",
          "text": [
            "Test set size: 2\n",
            "Intercept: 2.5755906479631854\n",
            "Coefficients: [ 0.07039746  0.19752163 -0.06075034]\n",
            "R-squared Score: 0.6442358724892807\n",
            "Mean Squared Error: 2.4049655019724616\n",
            "Actual: 15.6, Predicted: 13.43\n",
            "Actual: 10.4, Predicted: 10.73\n"
          ]
        }
      ]
    },
    {
      "cell_type": "markdown",
      "source": [
        "2. can you predict the employee attrition in an organization based on the following features. The features and the dataset are given below. use a classification model with KNN algorithm\n",
        "Features:\n",
        "Age: Age of the employee (numerical).\n",
        "JobRole: The job role/position of the employee (categorical).\n",
        "MonthlyIncome: Employee's monthly salary (numerical).\n",
        "JobSatisfaction: A rating from 1 to 4 indicating the employee's satisfaction with the job (numerical).\n",
        "YearsAtCompany: Number of years the employee has been at the company (numerical).\n",
        "Attrition: Target label indicating whether the employee left the company (1 for attrition, 0 for no attrition)\n",
        "Age,JobRole,MonthlyIncome,JobSatisfaction,YearsAtCompany,Attrition\n",
        "29,Sales Executive,4800,3,4,1\n",
        "35,Research Scientist,6000,4,8,0\n",
        "40,Laboratory Technician,3400,2,6,0\n",
        "28,Sales Executive,4300,3,3,1\n",
        "45,Manager,11000,4,15,0\n",
        "25,Research Scientist,3500,1,2,1\n",
        "50,Manager,12000,4,20,0\n",
        "30,Sales Executive,5000,2,5,0\n",
        "37, Laboratory Technician,3100,2,9,0\n",
        "26, Research Scientist,4500,3,2,1"
      ],
      "metadata": {
        "id": "LrhdrOlwExzn"
      }
    },
    {
      "cell_type": "code",
      "source": [
        "import pandas as pd\n",
        "from sklearn.preprocessing import LabelEncoder\n",
        "from sklearn.model_selection import train_test_split\n",
        "from sklearn.neighbors import KNeighborsClassifier\n",
        "from sklearn.metrics import classification_report, accuracy_score\n",
        "\n",
        "# Step 1: Create the dataset\n",
        "data = {\n",
        "    'Age': [29, 35, 40, 28, 45, 25, 50, 30, 37, 26],\n",
        "    'JobRole': ['Sales Executive', 'Research Scientist', 'Laboratory Technician', 'Sales Executive', 'Manager',\n",
        "                'Research Scientist', 'Manager', 'Sales Executive', 'Laboratory Technician', 'Research Scientist'],\n",
        "    'MonthlyIncome': [4800, 6000, 3400, 4300, 11000, 3500, 12000, 5000, 3100, 4500],\n",
        "    'JobSatisfaction': [3, 4, 2, 3, 4, 1, 4, 2, 2, 3],\n",
        "    'YearsAtCompany': [4, 8, 6, 3, 15, 2, 20, 5, 9, 2],\n",
        "    'Attrition': [1, 0, 0, 1, 0, 1, 0, 0, 0, 1]\n",
        "}\n",
        "\n",
        "df = pd.DataFrame(data)\n",
        "\n",
        "# Step 2: Encode categorical variable 'JobRole'\n",
        "label_encoder = LabelEncoder()\n",
        "df['JobRole'] = label_encoder.fit_transform(df['JobRole'])\n",
        "\n",
        "# Step 3: Define features and target\n",
        "X = df[['Age', 'JobRole', 'MonthlyIncome', 'JobSatisfaction', 'YearsAtCompany']]\n",
        "y = df['Attrition']\n",
        "\n",
        "# Step 4: Split the dataset\n",
        "X_train, X_test, y_train, y_test = train_test_split(X, y, test_size=0.3, random_state=42)\n",
        "\n",
        "# Step 5: Train the KNN classifier\n",
        "knn = KNeighborsClassifier(n_neighbors=3)\n",
        "knn.fit(X_train, y_train)\n",
        "\n",
        "\n",
        "# Step 6: Predict and evaluate\n",
        "y_pred = knn.predict(X_test)\n",
        "accuracy = accuracy_score(y_test, y_pred)\n",
        "report = classification_report(y_test, y_pred, zero_division=0)\n",
        "\n",
        "# Step 7: Output results\n",
        "print(f\"Accuracy of KNN classifier: {accuracy:.2f}\")\n",
        "print(\"Classification Report:\")\n",
        "print(report)\n"
      ],
      "metadata": {
        "colab": {
          "base_uri": "https://localhost:8080/"
        },
        "id": "cw0jz4fds8Lf",
        "outputId": "7c348f33-1e89-4292-c184-e9670f51b7e2"
      },
      "execution_count": 2,
      "outputs": [
        {
          "output_type": "stream",
          "name": "stdout",
          "text": [
            "Accuracy of KNN classifier: 0.33\n",
            "Classification Report:\n",
            "              precision    recall  f1-score   support\n",
            "\n",
            "           0       0.00      0.00      0.00         2\n",
            "           1       0.33      1.00      0.50         1\n",
            "\n",
            "    accuracy                           0.33         3\n",
            "   macro avg       0.17      0.50      0.25         3\n",
            "weighted avg       0.11      0.33      0.17         3\n",
            "\n"
          ]
        }
      ]
    },
    {
      "cell_type": "markdown",
      "source": [
        "3. write a python program to draw the neural network for the the pima indians diabetes prediction problem which was discussed in the class"
      ],
      "metadata": {
        "id": "kQKDmd4CE4Wh"
      }
    },
    {
      "cell_type": "code",
      "source": [
        "import torch\n",
        "import torch.nn as nn\n",
        "import torch.optim as optim\n",
        "from torch.utils.data import DataLoader, TensorDataset\n",
        "import pandas as pd\n",
        "from sklearn.model_selection import train_test_split\n",
        "from sklearn.preprocessing import StandardScaler\n",
        "\n",
        "# Load the dataset\n",
        "#filename ='https://raw.githubusercontent.com/enuguru/aiandml/master/datasets/pima-indians_classification_train.csv'\n",
        "data = {\n",
        "'Pregnancies': [6,1,8,1,0,5,3,10,2,8,],\n",
        "'Glucose': [148,85,183,89,137,116,78,115,197,125],\n",
        "'BloodPressure': [72,66,64,66,40,74,50,0,70,96],\n",
        "'SkinThickness': [35,29,0,23,35,0,32,0,45,0],\n",
        "'Insulin': [0,0,0,94,168,0,88,0,543,0],\n",
        "'BMI': [33.6,26.6,23.3,28.1,43.1,25.6,31,35.3,30.5,0],\n",
        "'DiabetesPedigreeFunction': [0.627,0.351,0.672,0.167,2.288,0.201,0.248,0.134,0.158,0.232],\n",
        "'Age': [50,31,32,21,33,30,26,29,53,54],\n",
        "'Outcome': [1,0,1,0,1,0,1,0,1,1,]\n",
        "}\n",
        "df = pd.DataFrame(data)\n",
        "\n",
        "# Split features and labels\n",
        "X = df.drop('Outcome', axis=1).values\n",
        "y = df['Outcome'].values\n",
        "\n",
        "# Normalize features\n",
        "scaler = StandardScaler()\n",
        "X = scaler.fit_transform(X)\n",
        "\n",
        "# Convert to PyTorch tensors\n",
        "X_tensor = torch.tensor(X, dtype=torch.float32)\n",
        "y_tensor = torch.tensor(y, dtype=torch.float32).view(-1, 1)\n",
        "\n",
        "# Create DataLoader\n",
        "dataset = TensorDataset(X_tensor, y_tensor)\n",
        "train_loader = DataLoader(dataset, batch_size=32, shuffle=True)\n",
        "\n",
        "# Define the neural network\n",
        "class DiabetesNet(nn.Module):\n",
        "    def __init__(self):\n",
        "        super(DiabetesNet, self).__init__()\n",
        "        self.fc1 = nn.Linear(8, 6)\n",
        "        self.relu = nn.ReLU()\n",
        "        self.fc2 = nn.Linear(6, 1)\n",
        "        self.sigmoid = nn.Sigmoid()\n",
        "\n",
        "    def forward(self, x):\n",
        "        x = self.relu(self.fc1(x))\n",
        "        x = self.sigmoid(self.fc2(x))\n",
        "        return x\n",
        "\n",
        "# Initialize model, loss, and optimizer\n",
        "model = DiabetesNet()\n",
        "criterion = nn.BCELoss()\n",
        "optimizer = optim.Adam(model.parameters(), lr=0.01)\n",
        "\n",
        "# Training loop\n",
        "for epoch in range(100):\n",
        "    for inputs, labels in train_loader:\n",
        "        outputs = model(inputs)\n",
        "        loss = criterion(outputs, labels)\n",
        "        optimizer.zero_grad()\n",
        "        loss.backward()\n",
        "        optimizer.step()\n",
        "    if epoch % 10 == 0:\n",
        "        print(f'Epoch {epoch}, Loss: {loss.item():.4f}')\n"
      ],
      "metadata": {
        "colab": {
          "base_uri": "https://localhost:8080/"
        },
        "id": "Gvxv4Yg92gDi",
        "outputId": "be7cc972-883a-4762-8ac4-cd0cb92496c8"
      },
      "execution_count": 6,
      "outputs": [
        {
          "output_type": "stream",
          "name": "stdout",
          "text": [
            "Epoch 0, Loss: 0.6971\n",
            "Epoch 10, Loss: 0.5415\n",
            "Epoch 20, Loss: 0.4268\n",
            "Epoch 30, Loss: 0.3256\n",
            "Epoch 40, Loss: 0.2463\n",
            "Epoch 50, Loss: 0.1902\n",
            "Epoch 60, Loss: 0.1490\n",
            "Epoch 70, Loss: 0.1166\n",
            "Epoch 80, Loss: 0.0904\n",
            "Epoch 90, Loss: 0.0700\n"
          ]
        }
      ]
    }
  ],
  "metadata": {
    "colab": {
      "provenance": [],
      "include_colab_link": true
    },
    "kernelspec": {
      "display_name": "Python 3",
      "name": "python3"
    }
  },
  "nbformat": 4,
  "nbformat_minor": 0
}