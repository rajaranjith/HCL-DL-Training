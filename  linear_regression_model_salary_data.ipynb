{
  "cells": [
    {
      "cell_type": "markdown",
      "metadata": {
        "id": "view-in-github",
        "colab_type": "text"
      },
      "source": [
        "<a href=\"https://colab.research.google.com/github/rajaranjith/HCL-DL-Training/blob/master/%20linear_regression_model_salary_data.ipynb\" target=\"_parent\"><img src=\"https://colab.research.google.com/assets/colab-badge.svg\" alt=\"Open In Colab\"/></a>"
      ]
    },
    {
      "cell_type": "code",
      "source": [
        "import pandas as pd\n",
        "from sklearn.model_selection import train_test_split\n",
        "from sklearn.linear_model import LinearRegression\n",
        "from sklearn.preprocessing import LabelEncoder\n",
        "from sklearn.metrics import mean_squared_error\n",
        "\n",
        "# Load the dataset\n",
        "#filename = \"Salary Data.csv\"\n",
        "filename = \"https://raw.githubusercontent.com/enuguru/aiandml/master/datasets/Salary%20Data.csv\"\n",
        "df = pd.read_csv(filename)\n",
        "\n",
        "# Drop rows with missing values\n",
        "df.dropna(inplace=True)\n",
        "\n",
        "# Encode categorical features using LabelEncoder\n",
        "label_encoders = {}\n",
        "categorical_columns = [\"Gender\", \"Education Level\", \"Job Title\"]\n",
        "for col in categorical_columns:\n",
        "    le = LabelEncoder()\n",
        "    df[col] = le.fit_transform(df[col])\n",
        "    label_encoders[col] = le\n",
        "\n",
        "# Define features and target\n",
        "X = df.drop(\"Salary\", axis=1)\n",
        "y = df[\"Salary\"]\n",
        "\n",
        "# Split data into training and testing sets\n",
        "X_train, X_test, y_train, y_test = train_test_split(X, y, test_size=0.2, random_state=42)\n",
        "\n",
        "# Train the Linear Regression model\n",
        "model = LinearRegression()\n",
        "model.fit(X_train, y_train)\n",
        "\n",
        "# Predict and evaluate\n",
        "y_pred = model.predict(X_test)\n",
        "mse = mean_squared_error(y_test, y_pred)\n",
        "\n",
        "# Print 10 test case predictions\n",
        "test_cases = X_test.head(10)\n",
        "predictions = model.predict(test_cases)\n",
        "\n",
        "print(\"Mean Squared Error:\", round(mse, 2))\n",
        "print(\"\\nSample Predictions:\")\n",
        "for i in range(10):\n",
        "    print(f\"Input: {test_cases.iloc[i].to_dict()} => Predicted Salary: {round(predictions[i], 2)}\")"
      ],
      "metadata": {
        "id": "cBxMi1_RsoEM",
        "outputId": "81801087-b13b-4b05-8368-d51d1eb45880",
        "colab": {
          "base_uri": "https://localhost:8080/"
        }
      },
      "execution_count": 5,
      "outputs": [
        {
          "output_type": "stream",
          "name": "stdout",
          "text": [
            "Mean Squared Error: 249075656.43\n",
            "\n",
            "Sample Predictions:\n",
            "Input: {'Age': 48.0, 'Gender': 1.0, 'Education Level': 1.0, 'Job Title': 29.0, 'Years of Experience': 21.0} => Predicted Salary: 167633.69\n",
            "Input: {'Age': 39.0, 'Gender': 0.0, 'Education Level': 0.0, 'Job Title': 84.0, 'Years of Experience': 10.0} => Predicted Salary: 93362.33\n",
            "Input: {'Age': 44.0, 'Gender': 1.0, 'Education Level': 0.0, 'Job Title': 89.0, 'Years of Experience': 16.0} => Predicted Salary: 130879.62\n",
            "Input: {'Age': 34.0, 'Gender': 0.0, 'Education Level': 1.0, 'Job Title': 117.0, 'Years of Experience': 6.0} => Predicted Salary: 84293.36\n",
            "Input: {'Age': 43.0, 'Gender': 1.0, 'Education Level': 2.0, 'Job Title': 116.0, 'Years of Experience': 17.0} => Predicted Salary: 161044.59\n",
            "Input: {'Age': 44.0, 'Gender': 0.0, 'Education Level': 2.0, 'Job Title': 122.0, 'Years of Experience': 18.0} => Predicted Salary: 159610.95\n",
            "Input: {'Age': 50.0, 'Gender': 0.0, 'Education Level': 0.0, 'Job Title': 89.0, 'Years of Experience': 22.0} => Predicted Salary: 157000.4\n",
            "Input: {'Age': 35.0, 'Gender': 1.0, 'Education Level': 1.0, 'Job Title': 141.0, 'Years of Experience': 10.0} => Predicted Salary: 104784.31\n",
            "Input: {'Age': 31.0, 'Gender': 1.0, 'Education Level': 0.0, 'Job Title': 66.0, 'Years of Experience': 3.0} => Predicted Salary: 57465.49\n",
            "Input: {'Age': 37.0, 'Gender': 0.0, 'Education Level': 1.0, 'Job Title': 121.0, 'Years of Experience': 9.0} => Predicted Salary: 101175.03\n"
          ]
        }
      ]
    }
  ],
  "metadata": {
    "colab": {
      "name": "Welcome To Colab",
      "provenance": [],
      "include_colab_link": true
    },
    "kernelspec": {
      "display_name": "Python 3",
      "name": "python3"
    }
  },
  "nbformat": 4,
  "nbformat_minor": 0
}